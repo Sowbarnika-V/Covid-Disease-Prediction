{
  "nbformat": 4,
  "nbformat_minor": 0,
  "metadata": {
    "colab": {
      "provenance": [],
      "mount_file_id": "1gbcOWS2aKIfYVmClyk-Q3o-FDrdQeH4a",
      "authorship_tag": "ABX9TyNDHxULYFJF5eKo68Od5Bh3",
      "include_colab_link": true
    },
    "kernelspec": {
      "name": "python3",
      "display_name": "Python 3"
    },
    "language_info": {
      "name": "python"
    }
  },
  "cells": [
    {
      "cell_type": "markdown",
      "metadata": {
        "id": "view-in-github",
        "colab_type": "text"
      },
      "source": [
        "<a href=\"https://colab.research.google.com/github/Sowbarnika-V/Covid-Disease-Prediction/blob/main/Covid(Disease_Detection).ipynb\" target=\"_parent\"><img src=\"https://colab.research.google.com/assets/colab-badge.svg\" alt=\"Open In Colab\"/></a>"
      ]
    },
    {
      "cell_type": "code",
      "source": [
        "from google.colab import drive\n",
        "drive.mount('/content/drive')\n"
      ],
      "metadata": {
        "colab": {
          "base_uri": "https://localhost:8080/"
        },
        "id": "qUalT4ZK9krZ",
        "outputId": "ce80de25-13ce-4beb-f86f-9386a3596d93"
      },
      "execution_count": null,
      "outputs": [
        {
          "output_type": "stream",
          "name": "stdout",
          "text": [
            "Drive already mounted at /content/drive; to attempt to forcibly remount, call drive.mount(\"/content/drive\", force_remount=True).\n"
          ]
        }
      ]
    },
    {
      "cell_type": "code",
      "source": [
        "#from zipfile import ZipFile\n",
        "file_name=\"/content/drive/MyDrive/CovidDataset\""
      ],
      "metadata": {
        "id": "6T4hqRzL-KxX"
      },
      "execution_count": null,
      "outputs": []
    },
    {
      "cell_type": "code",
      "source": [
        "import numpy as np\n",
        "import matplotlib.pyplot as plt\n",
        "from tensorflow.keras.layers import *\n",
        "from tensorflow.keras.models import *\n",
        "from tensorflow.keras.preprocessing import image"
      ],
      "metadata": {
        "id": "M2hMPUoZ-5fr"
      },
      "execution_count": null,
      "outputs": []
    },
    {
      "cell_type": "code",
      "source": [
        "#training model\n",
        "model=Sequential()\n",
        "model.add(Conv2D(32,kernel_size=(3,3),activation='relu',input_shape=(224,224,3)))\n",
        "model.add(MaxPooling2D(pool_size=(2,2)))\n",
        "model.add(Conv2D(64,kernel_size=(3,3),activation='relu'))\n",
        "model.add(MaxPooling2D(pool_size=(2,2)))\n",
        "model.add(Dropout(0.25))\n",
        "\n",
        "model.add(Conv2D(64,kernel_size=(3,3),activation='relu'))\n",
        "model.add(MaxPooling2D(pool_size=(2,2)))\n",
        "model.add(Dropout(0.25))\n",
        "\n",
        "model.add(Conv2D(128,kernel_size=(3,3),activation='relu'))\n",
        "model.add(MaxPooling2D(pool_size=(2,2)))\n",
        "model.add(Dropout(0.25))\n",
        "\n",
        "model.add(Flatten())\n",
        "model.add(Dense(64,activation='relu'))\n",
        "model.add(Dropout(0.5))\n",
        "model.add(Dense(1,activation='sigmoid'))\n",
        "\n",
        "model.compile(loss='binary_crossentropy',optimizer='adam',metrics=['accuracy'])\n"
      ],
      "metadata": {
        "id": "UfN2TLAM_VXp"
      },
      "execution_count": null,
      "outputs": []
    },
    {
      "cell_type": "code",
      "source": [
        "model.summary()"
      ],
      "metadata": {
        "colab": {
          "base_uri": "https://localhost:8080/"
        },
        "id": "PNhF0m9FBhmR",
        "outputId": "c12889bc-f9f9-43c1-b9fb-04ab81cd2ff2"
      },
      "execution_count": null,
      "outputs": [
        {
          "output_type": "stream",
          "name": "stdout",
          "text": [
            "Model: \"sequential\"\n",
            "_________________________________________________________________\n",
            " Layer (type)                Output Shape              Param #   \n",
            "=================================================================\n",
            " conv2d (Conv2D)             (None, 222, 222, 32)      896       \n",
            "                                                                 \n",
            " max_pooling2d (MaxPooling2  (None, 111, 111, 32)      0         \n",
            " D)                                                              \n",
            "                                                                 \n",
            " conv2d_1 (Conv2D)           (None, 109, 109, 64)      18496     \n",
            "                                                                 \n",
            " max_pooling2d_1 (MaxPoolin  (None, 54, 54, 64)        0         \n",
            " g2D)                                                            \n",
            "                                                                 \n",
            " dropout (Dropout)           (None, 54, 54, 64)        0         \n",
            "                                                                 \n",
            " conv2d_2 (Conv2D)           (None, 52, 52, 64)        36928     \n",
            "                                                                 \n",
            " max_pooling2d_2 (MaxPoolin  (None, 26, 26, 64)        0         \n",
            " g2D)                                                            \n",
            "                                                                 \n",
            " dropout_1 (Dropout)         (None, 26, 26, 64)        0         \n",
            "                                                                 \n",
            " conv2d_3 (Conv2D)           (None, 24, 24, 128)       73856     \n",
            "                                                                 \n",
            " max_pooling2d_3 (MaxPoolin  (None, 12, 12, 128)       0         \n",
            " g2D)                                                            \n",
            "                                                                 \n",
            " dropout_2 (Dropout)         (None, 12, 12, 128)       0         \n",
            "                                                                 \n",
            " flatten (Flatten)           (None, 18432)             0         \n",
            "                                                                 \n",
            " dense (Dense)               (None, 64)                1179712   \n",
            "                                                                 \n",
            " dropout_3 (Dropout)         (None, 64)                0         \n",
            "                                                                 \n",
            " dense_1 (Dense)             (None, 1)                 65        \n",
            "                                                                 \n",
            "=================================================================\n",
            "Total params: 1309953 (5.00 MB)\n",
            "Trainable params: 1309953 (5.00 MB)\n",
            "Non-trainable params: 0 (0.00 Byte)\n",
            "_________________________________________________________________\n"
          ]
        }
      ]
    },
    {
      "cell_type": "code",
      "source": [
        "#Moulding Train images\n",
        "\n",
        "train_datagen=image.ImageDataGenerator(rescale=1./255,shear_range=0.2,zoom_range=0.2,horizontal_flip=True)\n",
        "\n",
        "test_datagen=image.ImageDataGenerator(rescale=1./255)"
      ],
      "metadata": {
        "id": "neXPz4zdCE6d"
      },
      "execution_count": null,
      "outputs": []
    },
    {
      "cell_type": "code",
      "source": [
        "#Reshaping test and validation images\n",
        "\n",
        "train_generator = train_datagen.flow_from_directory('/content/drive/MyDrive/CovidDataset/CovidDataset/Train',\n",
        "                                                    target_size=(224,224),\n",
        "                                                    batch_size=10,\n",
        "                                                    class_mode='binary')\n",
        "\n",
        "validation_generator = train_datagen.flow_from_directory('/content/drive/MyDrive/CovidDataset/CovidDataset/Val',\n",
        "                                                         target_size=(224,224),\n",
        "                                                         batch_size=10,\n",
        "                                                         class_mode='binary')\n"
      ],
      "metadata": {
        "colab": {
          "base_uri": "https://localhost:8080/"
        },
        "id": "AukKNSHNCpYB",
        "outputId": "85b2c306-c046-44f2-fb37-0c4747989559"
      },
      "execution_count": null,
      "outputs": [
        {
          "output_type": "stream",
          "name": "stdout",
          "text": [
            "Found 224 images belonging to 2 classes.\n",
            "Found 60 images belonging to 2 classes.\n"
          ]
        }
      ]
    },
    {
      "cell_type": "code",
      "source": [
        "##Train the model\n",
        "history=model.fit_generator(train_generator,\n",
        "                            steps_per_epoch=7,\n",
        "                            epochs=20,\n",
        "                            validation_data=validation_generator,validation_steps=1)"
      ],
      "metadata": {
        "colab": {
          "base_uri": "https://localhost:8080/"
        },
        "id": "Ecp1NrNhDYWI",
        "outputId": "37801665-7709-42e9-a7b3-0d62f74783a7"
      },
      "execution_count": null,
      "outputs": [
        {
          "output_type": "stream",
          "name": "stderr",
          "text": [
            "<ipython-input-14-f2789e45e32d>:2: UserWarning: `Model.fit_generator` is deprecated and will be removed in a future version. Please use `Model.fit`, which supports generators.\n",
            "  history=model.fit_generator(train_generator,\n"
          ]
        },
        {
          "output_type": "stream",
          "name": "stdout",
          "text": [
            "Epoch 1/20\n",
            "7/7 [==============================] - 10s 1s/step - loss: 0.1524 - accuracy: 0.9857 - val_loss: 0.2698 - val_accuracy: 0.9000\n",
            "Epoch 2/20\n",
            "7/7 [==============================] - 8s 1s/step - loss: 0.1516 - accuracy: 0.9571 - val_loss: 0.1846 - val_accuracy: 0.9000\n",
            "Epoch 3/20\n",
            "7/7 [==============================] - 9s 1s/step - loss: 0.1855 - accuracy: 0.9286 - val_loss: 0.3361 - val_accuracy: 0.8000\n",
            "Epoch 4/20\n",
            "7/7 [==============================] - 10s 1s/step - loss: 0.1586 - accuracy: 0.9429 - val_loss: 0.1385 - val_accuracy: 1.0000\n",
            "Epoch 5/20\n",
            "7/7 [==============================] - 8s 1s/step - loss: 0.1440 - accuracy: 0.9714 - val_loss: 0.0461 - val_accuracy: 1.0000\n",
            "Epoch 6/20\n",
            "7/7 [==============================] - 9s 1s/step - loss: 0.0613 - accuracy: 0.9857 - val_loss: 0.0042 - val_accuracy: 1.0000\n",
            "Epoch 7/20\n",
            "7/7 [==============================] - 10s 1s/step - loss: 0.1037 - accuracy: 0.9571 - val_loss: 0.0914 - val_accuracy: 0.9000\n",
            "Epoch 8/20\n",
            "7/7 [==============================] - 7s 1s/step - loss: 0.1053 - accuracy: 0.9531 - val_loss: 0.0209 - val_accuracy: 1.0000\n",
            "Epoch 9/20\n",
            "7/7 [==============================] - 9s 1s/step - loss: 0.1800 - accuracy: 0.9688 - val_loss: 0.0152 - val_accuracy: 1.0000\n",
            "Epoch 10/20\n",
            "7/7 [==============================] - 9s 1s/step - loss: 0.0872 - accuracy: 0.9531 - val_loss: 0.1776 - val_accuracy: 0.9000\n",
            "Epoch 11/20\n",
            "7/7 [==============================] - 8s 1s/step - loss: 0.1093 - accuracy: 0.9571 - val_loss: 0.2254 - val_accuracy: 0.9000\n",
            "Epoch 12/20\n",
            "7/7 [==============================] - 8s 1s/step - loss: 0.0835 - accuracy: 0.9571 - val_loss: 0.0719 - val_accuracy: 1.0000\n",
            "Epoch 13/20\n",
            "7/7 [==============================] - 9s 1s/step - loss: 0.1052 - accuracy: 0.9857 - val_loss: 0.0199 - val_accuracy: 1.0000\n",
            "Epoch 14/20\n",
            "7/7 [==============================] - 10s 1s/step - loss: 0.0253 - accuracy: 1.0000 - val_loss: 0.0365 - val_accuracy: 1.0000\n",
            "Epoch 15/20\n",
            "7/7 [==============================] - 11s 2s/step - loss: 0.0991 - accuracy: 0.9857 - val_loss: 0.5713 - val_accuracy: 0.9000\n",
            "Epoch 16/20\n",
            "7/7 [==============================] - 10s 1s/step - loss: 0.0712 - accuracy: 0.9857 - val_loss: 0.0082 - val_accuracy: 1.0000\n",
            "Epoch 17/20\n",
            "7/7 [==============================] - 9s 1s/step - loss: 0.0723 - accuracy: 0.9429 - val_loss: 0.0864 - val_accuracy: 0.9000\n",
            "Epoch 18/20\n",
            "7/7 [==============================] - 9s 1s/step - loss: 0.0114 - accuracy: 1.0000 - val_loss: 0.0488 - val_accuracy: 1.0000\n",
            "Epoch 19/20\n",
            "7/7 [==============================] - 8s 1s/step - loss: 0.1308 - accuracy: 0.9571 - val_loss: 0.0793 - val_accuracy: 1.0000\n",
            "Epoch 20/20\n",
            "7/7 [==============================] - 9s 1s/step - loss: 0.0924 - accuracy: 0.9571 - val_loss: 0.1118 - val_accuracy: 0.9000\n"
          ]
        }
      ]
    },
    {
      "cell_type": "code",
      "source": [
        "from prompt_toolkit.shortcuts.prompt import E\n",
        "img=image.load_img('/content/Normal.jpeg',target_size=(224,224))\n",
        "img=image.img_to_array(img)\n",
        "img=np.expand_dims(img,axis=0)\n",
        "ypred=model.predict(img)\n",
        "if(ypred[0][0]==0):\n",
        "  print(\"The person is affected by Covid\")\n",
        "else:\n",
        "    print(\"The person is not affected by Covid\")"
      ],
      "metadata": {
        "colab": {
          "base_uri": "https://localhost:8080/"
        },
        "id": "DiMkKP52D8eN",
        "outputId": "c7a03918-fa57-42ef-9d25-307931efff6c"
      },
      "execution_count": null,
      "outputs": [
        {
          "output_type": "stream",
          "name": "stdout",
          "text": [
            "1/1 [==============================] - 0s 142ms/step\n",
            "The person is affected by Covid\n"
          ]
        }
      ]
    },
    {
      "cell_type": "code",
      "source": [
        "ypred[0][0]"
      ],
      "metadata": {
        "colab": {
          "base_uri": "https://localhost:8080/"
        },
        "id": "PnnNG-0cFQzA",
        "outputId": "3b4c4035-2a5a-474b-d50a-bcd94be3a619"
      },
      "execution_count": null,
      "outputs": [
        {
          "output_type": "execute_result",
          "data": {
            "text/plain": [
              "1.0"
            ]
          },
          "metadata": {},
          "execution_count": 22
        }
      ]
    },
    {
      "cell_type": "code",
      "source": [
        "model.evaluate_generator(validation_generator)"
      ],
      "metadata": {
        "colab": {
          "base_uri": "https://localhost:8080/"
        },
        "id": "zT6Gi80PFXXW",
        "outputId": "1205bbf4-e944-4f0b-ea23-a8defa2f105c"
      },
      "execution_count": null,
      "outputs": [
        {
          "output_type": "stream",
          "name": "stderr",
          "text": [
            "<ipython-input-23-8951cfd684a1>:1: UserWarning: `Model.evaluate_generator` is deprecated and will be removed in a future version. Please use `Model.evaluate`, which supports generators.\n",
            "  model.evaluate_generator(validation_generator)\n"
          ]
        },
        {
          "output_type": "execute_result",
          "data": {
            "text/plain": [
              "[0.08936764299869537, 0.9833333492279053]"
            ]
          },
          "metadata": {},
          "execution_count": 23
        }
      ]
    },
    {
      "cell_type": "code",
      "source": [],
      "metadata": {
        "id": "7xCqTdmNFfp4"
      },
      "execution_count": null,
      "outputs": []
    }
  ]
}